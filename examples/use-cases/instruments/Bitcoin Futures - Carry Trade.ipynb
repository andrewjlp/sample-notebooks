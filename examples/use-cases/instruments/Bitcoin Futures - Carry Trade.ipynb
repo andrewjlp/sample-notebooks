{
 "cells": [
  {
   "cell_type": "code",
   "execution_count": 2,
   "metadata": {
    "collapsed": true
   },
   "outputs": [
    {
     "data": {
      "text/plain": "<IPython.core.display.HTML object>",
      "text/html": "\n    <form action=\"javascript:code_toggle()\"><input type=\"submit\" id=\"toggleButton\" value=\"Toggle Docstring\"></form>\n    \n         <script>\n         function code_toggle() {\n             if ($('div.cell.code_cell.rendered.selected div.input').css('display')!='none'){\n                 $('div.cell.code_cell.rendered.selected div.input').hide();\n             } else {\n                 $('div.cell.code_cell.rendered.selected div.input').show();\n             }\n         }\n         </script>\n\n     "
     },
     "metadata": {},
     "output_type": "display_data"
    }
   ],
   "source": [
    "from lusidtools.jupyter_tools import toggle_code\n",
    "\n",
    "\"\"\"Bitcoin Futures Carry Trade\n",
    "\n",
    "Attributes\n",
    "----------\n",
    "futures\n",
    "crypto\n",
    "recipes\n",
    "valuations\n",
    "\"\"\"\n",
    "\n",
    "toggle_code(\"Toggle Docstring\")"
   ]
  },
  {
   "cell_type": "markdown",
   "source": [
    "# Carry Trade with CME Bitcoin futures and spot BTC"
   ],
   "metadata": {
    "collapsed": false
   }
  },
  {
   "cell_type": "markdown",
   "source": [
    "## Table of Contents\n",
    "* [1. Create Portfolio](#-Create-Portfolio)\n",
    "* [2. Create Instruments](#-Create-Instruments)\n",
    "* [3. Quotes](#-Quotes)\n",
    "* [4. Valuations](#-Valuations)\n",
    "* [5. Transactions](#-Transactions)"
   ],
   "metadata": {
    "collapsed": false
   }
  },
  {
   "cell_type": "code",
   "execution_count": 3,
   "outputs": [
    {
     "data": {
      "text/plain": "<IPython.core.display.HTML object>",
      "text/html": "<style>.container { width:90% !important; }</style>"
     },
     "metadata": {},
     "output_type": "display_data"
    }
   ],
   "source": [
    "# Import generic non-LUSID packages\n",
    "import os\n",
    "import pandas as pd\n",
    "import numpy as np\n",
    "from datetime import datetime\n",
    "from dateutil.parser import parse\n",
    "import json\n",
    "import pytz\n",
    "import time\n",
    "from IPython.core.display import HTML\n",
    "\n",
    "# Import key modules from the LUSID package\n",
    "import lusid\n",
    "import lusid.models as lm\n",
    "from utilities.instrument_utils import create_property, add_utc_to_df, valuation_response_to_df\n",
    "\n",
    "# Import key functions from Lusid-Python-Tools and other packages\n",
    "from lusidtools.pandas_utils.lusid_pandas import lusid_response_to_data_frame\n",
    "from lusidtools.cocoon.transaction_type_upload import upsert_transaction_type_alias\n",
    "from lusidjam import RefreshingToken\n",
    "\n",
    "# Set DataFrame display formats\n",
    "pd.set_option(\"display.max_columns\", None)\n",
    "pd.set_option(\"display.max_rows\", None)\n",
    "pd.options.display.float_format = \"{:,.2f}\".format\n",
    "display(HTML(\"<style>.container { width:90% !important; }</style>\"))\n",
    "\n",
    "# Create API client\n",
    "api_factory = lusid.utilities.ApiClientFactory(\n",
    "    token=RefreshingToken(), app_name=\"LusidJupyterNotebook\"\n",
    ")"
   ],
   "metadata": {
    "collapsed": false,
    "pycharm": {
     "name": "#%%\n"
    }
   }
  },
  {
   "cell_type": "markdown",
   "source": [
    "# 1. Introduction\n",
    "\n",
    "We begin by looking at booking a carry trade using a spot and future instrument, and cover life cycle and valuation in LUSID."
   ],
   "metadata": {
    "collapsed": false,
    "pycharm": {
     "name": "#%% md\n"
    }
   }
  },
  {
   "cell_type": "code",
   "execution_count": 4,
   "outputs": [],
   "source": [
    "# Initiate required LUSID APIs\n",
    "instruments_api = api_factory.build(lusid.api.InstrumentsApi)\n",
    "property_definitions_api = api_factory.build(lusid.api.PropertyDefinitionsApi)\n",
    "quotes_api = api_factory.build(lusid.api.QuotesApi)\n",
    "transaction_portfolios_api = api_factory.build(lusid.api.TransactionPortfoliosApi)\n",
    "configuration_recipe_api = api_factory.build(lusid.api.ConfigurationRecipeApi)\n",
    "aggregation_api = api_factory.build(lusid.api.AggregationApi)"
   ],
   "metadata": {
    "collapsed": false,
    "pycharm": {
     "name": "#%%\n"
    }
   }
  },
  {
   "cell_type": "markdown",
   "source": [
    "## 1.1 Create Instruments\n",
    "\n",
    "We begin by creating the 2 instruments in LUSID that will form part of the trading strategy:\n",
    "\n",
    "- Bitcoin CME Future - Aug 2022\n",
    "- Bitcoin Spot\n",
    "\n",
    "We imagine taking a position in both bitcoin spot and the future to take advantage of the spread. This could also be achieved using a Bitcoin ETF.\n"
   ],
   "metadata": {
    "collapsed": false,
    "pycharm": {
     "name": "#%% md\n"
    }
   }
  },
  {
   "cell_type": "code",
   "execution_count": 5,
   "outputs": [],
   "source": [
    "# Define function that creates futures\n",
    "def create_futures_contract(\n",
    "        name,\n",
    "        dom_ccy,\n",
    "        contract_code,\n",
    "        contract_month,\n",
    "        contract_size,\n",
    "        country_id,\n",
    "        exchange_code,\n",
    "        exchange_name,\n",
    "        ticker_step,\n",
    "        unit_value,\n",
    "        ref_spot_price,\n",
    "        start_date,\n",
    "        maturity_date,\n",
    "        identifier,\n",
    "        convention=\"Invalid\",\n",
    "        properties: list = None,\n",
    ") -> lm.InstrumentDefinition:\n",
    "    contract_details = lm.FuturesContractDetails(\n",
    "        dom_ccy=dom_ccy,\n",
    "        contract_code=contract_code,\n",
    "        contract_month=contract_month,\n",
    "        contract_size=contract_size,\n",
    "        country=country_id,\n",
    "        description=name,\n",
    "        exchange_code=exchange_code,\n",
    "        exchange_name=exchange_name,\n",
    "        ticker_step=ticker_step,\n",
    "        unit_value=unit_value,\n",
    "        convention=convention,\n",
    "    )\n",
    "    future = lm.Future(\n",
    "        start_date=start_date,\n",
    "        maturity_date=maturity_date,\n",
    "        identifiers={},\n",
    "        contract_details=contract_details,\n",
    "        contracts=1,\n",
    "        ref_spot_price=ref_spot_price,\n",
    "        underlying=lm.ExoticInstrument(\n",
    "            instrument_format=lm.InstrumentDefinitionFormat(\n",
    "                \"custom\", \"custom\", \"0.0.0\"\n",
    "            ),\n",
    "            content=\"{}\",\n",
    "            instrument_type=\"ExoticInstrument\",\n",
    "        ),\n",
    "        instrument_type=\"Future\",\n",
    "    )\n",
    "    # Persist the instrument and upsert\n",
    "    return lm.InstrumentDefinition(\n",
    "        name=name,\n",
    "        identifiers={\n",
    "            \"ClientInternal\": lm.InstrumentIdValue(\n",
    "                identifier\n",
    "            )\n",
    "        },\n",
    "        definition=future,\n",
    "        properties=properties\n",
    "    )\n",
    "\n",
    "def create_currency_instrument(\n",
    "        name,\n",
    "        currency_id,\n",
    "        properties: list = None,\n",
    ") -> lm.InstrumentDefinition:\n",
    "\n",
    "    return lm.InstrumentDefinition(\n",
    "        name=name,\n",
    "        identifiers={\n",
    "            \"Currency\": lm.InstrumentIdValue(\n",
    "                currency_id\n",
    "            )\n",
    "        },\n",
    "        properties=properties,\n",
    "    )\n",
    "\n",
    "def populate_property_values(\n",
    "        property_scope: str,\n",
    "        property_code: str,\n",
    "        value: float,\n",
    "        unit: str = None,\n",
    "        property_display_name: str = None\n",
    "):\n",
    "    return lm.PerpetualProperty(\n",
    "        key=f\"Instrument/{property_scope}/{property_code}\",\n",
    "        value=lm.PropertyValue(\n",
    "            metric_value=lm.MetricValue(\n",
    "                value=value,\n",
    "                unit=unit\n",
    "            )\n",
    "        ),\n",
    "    )\n",
    "\n",
    "# Define a function to upsert instrument\n",
    "def create_request_body(*args: lm.InstrumentDefinition) -> dict:\n",
    "    instrument_definitions = args\n",
    "    return {\n",
    "        k:v for k,v in enumerate(instrument_definitions)\n",
    "    }"
   ],
   "metadata": {
    "collapsed": false,
    "pycharm": {
     "name": "#%%\n"
    }
   }
  },
  {
   "cell_type": "code",
   "execution_count": 6,
   "outputs": [],
   "source": [
    "# Set scope for instruments and properties\n",
    "scope = \"CarryDemo\""
   ],
   "metadata": {
    "collapsed": false,
    "pycharm": {
     "name": "#%%\n"
    }
   }
  },
  {
   "cell_type": "code",
   "execution_count": 7,
   "outputs": [
    {
     "name": "stdout",
     "output_type": "stream",
     "text": [
      "Error creating Property Definition 'Instrument/CarryDemo/InitialMargin' because it already exists.\n",
      "Error creating Property Definition 'Instrument/CarryDemo/SecondaryMargin' because it already exists.\n"
     ]
    }
   ],
   "source": [
    "# Details for margin requirements\n",
    "margins_dict = {\n",
    "    \"InitialMargin\" : 33827,\n",
    "    \"SecondaryMargin\" : 30752\n",
    "}\n",
    "\n",
    "for key in margins_dict.keys():\n",
    "    try:\n",
    "        property_definition_request = lm.CreatePropertyDefinitionRequest(\n",
    "            domain=\"Instrument\",\n",
    "            scope=scope,\n",
    "            code=key,\n",
    "            display_name=key,\n",
    "            data_type_id=lm.ResourceId(\n",
    "                scope=\"system\",\n",
    "                code=\"number\",\n",
    "            ),\n",
    "            life_time=\"Perpetual\",\n",
    "        )\n",
    "\n",
    "        property_definitions_api.create_property_definition(\n",
    "            create_property_definition_request=property_definition_request\n",
    "        )\n",
    "        print(f\"Property with code: {key} has been created.\")\n",
    "\n",
    "    except lusid.ApiException as e:\n",
    "        print(json.loads(e.body)[\"title\"])"
   ],
   "metadata": {
    "collapsed": false,
    "pycharm": {
     "name": "#%%\n"
    }
   }
  },
  {
   "cell_type": "code",
   "execution_count": 8,
   "outputs": [],
   "source": [
    "# Create list of instrument properties\n",
    "margin_properties = [\n",
    "    populate_property_values(\n",
    "        property_scope=scope,\n",
    "        property_code=key,\n",
    "        value=value,\n",
    "    )\n",
    "    for key, value in margins_dict.items()\n",
    "]\n",
    "\n",
    "# Create 'Future' instrument in LUSID\n",
    "fut_id = \"BTCQ2\"\n",
    "future_definition = create_futures_contract(\n",
    "    name=\"CME Bitcoin Fut Aug22\",\n",
    "    dom_ccy=\"USD\",\n",
    "    contract_code=\"BTC\",\n",
    "    contract_month=\"Q\",\n",
    "    contract_size=\"5\",\n",
    "    country_id=\"US\",\n",
    "    exchange_code=\"CME\",\n",
    "    exchange_name=\"Chicago Mercantile Exchange\",\n",
    "    ticker_step=\"5\",\n",
    "    unit_value=\"25\",\n",
    "    ref_spot_price=None,\n",
    "    start_date=datetime(2022, 2, 8, tzinfo=pytz.utc),\n",
    "    maturity_date=datetime(2022, 8, 26, tzinfo=pytz.utc),\n",
    "    identifier=fut_id,\n",
    "    properties=margin_properties\n",
    ")\n",
    "\n",
    "# Create Bitcoin currency instrument - notice use of XBT to meet ISO standards\n",
    "spot_id = \"XBT\"\n",
    "spot_definition = create_currency_instrument(\n",
    "    name=\"Bitcoin\",\n",
    "    currency_id=\"XBT\",\n",
    ")"
   ],
   "metadata": {
    "collapsed": false,
    "pycharm": {
     "name": "#%%\n"
    }
   }
  },
  {
   "cell_type": "code",
   "execution_count": 9,
   "outputs": [
    {
     "name": "stdout",
     "output_type": "stream",
     "text": [
      "2 instruments upserted to LUSID\n"
     ]
    }
   ],
   "source": [
    "request_body = create_request_body(future_definition, spot_definition)\n",
    "response = instruments_api.upsert_instruments(request_body=request_body)\n",
    "\n",
    "if len(response.failed) == 0:\n",
    "    print(f\"{len(response.values)} instruments upserted to LUSID\")\n",
    "else:\n",
    "    print(response.failed)"
   ],
   "metadata": {
    "collapsed": false,
    "pycharm": {
     "name": "#%%\n"
    }
   }
  },
  {
   "cell_type": "markdown",
   "source": [
    "# 2.0 Portfolio Setup"
   ],
   "metadata": {
    "collapsed": false
   }
  },
  {
   "cell_type": "code",
   "execution_count": 10,
   "outputs": [
    {
     "name": "stdout",
     "output_type": "stream",
     "text": [
      "Property Transaction/CarryDemo/SecurityType already exists\n"
     ]
    }
   ],
   "source": [
    "# Create sub-holding key property\n",
    "property_code = \"SecurityType\"\n",
    "sec_type_property_key = f\"Transaction/{scope}/{property_code}\"\n",
    "\n",
    "create_property(api_factory, \"Transaction\", scope, property_code, property_code, \"string\")"
   ],
   "metadata": {
    "collapsed": false,
    "pycharm": {
     "name": "#%%\n"
    }
   }
  },
  {
   "cell_type": "code",
   "execution_count": 11,
   "outputs": [
    {
     "name": "stdout",
     "output_type": "stream",
     "text": [
      "Could not create a portfolio with id 'CarryTradeWithFuture' because it already exists in scope 'CarryDemo'.\n"
     ]
    }
   ],
   "source": [
    "# Set portfolio details and upsert\n",
    "portfolio_code = \"CarryTradeWithFuture\"\n",
    "base_ccy = \"USD\"\n",
    "\n",
    "try:\n",
    "    transaction_portfolios_api.create_portfolio(\n",
    "        scope=scope,\n",
    "        create_transaction_portfolio_request=lm.CreateTransactionPortfolioRequest(\n",
    "            display_name=portfolio_code,\n",
    "            code=portfolio_code,\n",
    "            base_currency=base_ccy,\n",
    "            created=\"2010-01-01\",\n",
    "            sub_holding_keys=[sec_type_property_key],\n",
    "            instrument_scopes=[scope]\n",
    "        ),\n",
    "    )\n",
    "    print(f\"Portfolio with following resource IDs: scope: {scope} | code: {portfolio_code}\")\n",
    "except lusid.ApiException as e:\n",
    "    print(json.loads(e.body)[\"title\"])"
   ],
   "metadata": {
    "collapsed": false,
    "pycharm": {
     "name": "#%%\n"
    }
   }
  },
  {
   "cell_type": "markdown",
   "source": [
    "### 3.0 Transaction Configuration and Initial Trades"
   ],
   "metadata": {
    "collapsed": false,
    "pycharm": {
     "name": "#%% md\n"
    }
   }
  },
  {
   "cell_type": "code",
   "execution_count": 12,
   "outputs": [
    {
     "data": {
      "text/plain": "{'links': [{'description': None,\n            'href': 'https://swagpotato.lusid.com/api/api/systemconfiguration/transactions',\n            'method': 'POST',\n            'relation': 'Transactions'},\n           {'description': None,\n            'href': 'https://swagpotato.lusid.com/api/api/schemas/entities/TransactionSetConfigurationData',\n            'method': 'GET',\n            'relation': 'EntitySchema'},\n           {'description': None,\n            'href': 'https://swagpotato.lusid.com/api/',\n            'method': 'GET',\n            'relation': 'PropertySchema'},\n           {'description': 'A link to the LUSID Insights website showing all '\n                           'logs related to this request',\n            'href': 'http://swagpotato.lusid.com/app/insights/logs/0HMKMTRNB57N6:0000003C',\n            'method': 'GET',\n            'relation': 'RequestLogs'}],\n 'side_definitions': [{'amount': 'Txn:TotalConsideration',\n                       'currency': 'Txn:SettlementCurrency',\n                       'links': None,\n                       'rate': 'SettledToPortfolioRate',\n                       'security': 'Txn:SettleCcy',\n                       'side': 'Side2',\n                       'units': 'Txn:TotalConsideration'},\n                      {'amount': 'BaseOnSeparateBondInterest',\n                       'currency': 'Txn:SettlementCurrency',\n                       'links': None,\n                       'rate': 'SettledToPortfolioRate',\n                       'security': 'Txn:SettleCcy',\n                       'side': 'Side2WithoutBondInterest',\n                       'units': 'BaseOnSeparateBondInterest'},\n                      {'amount': 'Txn:BondInterest',\n                       'currency': 'Txn:SettlementCurrency',\n                       'links': None,\n                       'rate': 'SettledToPortfolioRate',\n                       'security': 'Txn:SettleCcy',\n                       'side': 'BondInt',\n                       'units': 'Txn:BondInterest'},\n                      {'amount': 'Transaction/custodian/broker_commission',\n                       'currency': 'Txn:SettlementCurrency',\n                       'links': None,\n                       'rate': 'Transaction/custodian/exchange_rate',\n                       'security': 'Txn:LusidInstrumentId',\n                       'side': 'TradeCommissions',\n                       'units': 'Transaction/custodian/broker_commission'},\n                      {'amount': 'Transaction/common/AccruedInterest',\n                       'currency': 'Txn:TradeCurrency',\n                       'links': None,\n                       'rate': 'SettledToPortfolioRate',\n                       'security': 'Txn:SettleCcy',\n                       'side': 'AccruedInterest',\n                       'units': 'Transaction/common/AccruedInterest'},\n                      {'amount': 'Txn:TradeAmount',\n                       'currency': 'Txn:TradeCurrency',\n                       'links': None,\n                       'rate': 'Txn:TradeToPortfolioRate',\n                       'security': 'Txn:LusidInstrumentId',\n                       'side': 'Side1',\n                       'units': 'Txn:Units'}],\n 'transaction_configs': [{'aliases': [{'description': 'Pending Cash Purchase',\n                                       'is_default': False,\n                                       'source': 'default',\n                                       'transaction_class': 'PendCash',\n                                       'transaction_group': 'default',\n                                       'transaction_roles': 'Longer',\n                                       'type': 'FutCashBuy'}],\n                          'movements': [{'direction': 1,\n                                         'mappings': [],\n                                         'movement_types': 'CashForward',\n                                         'name': None,\n                                         'properties': {},\n                                         'side': 'Side1'},\n                                        {'direction': -1,\n                                         'mappings': [],\n                                         'movement_types': 'CashForward',\n                                         'name': None,\n                                         'properties': {},\n                                         'side': 'Side2'}],\n                          'properties': {}},\n                         {'aliases': [{'description': 'Pending Cash Sale',\n                                       'is_default': False,\n                                       'source': 'default',\n                                       'transaction_class': 'PendCash',\n                                       'transaction_group': 'default',\n                                       'transaction_roles': 'Shorter',\n                                       'type': 'FutCashSell'}],\n                          'movements': [{'direction': -1,\n                                         'mappings': [],\n                                         'movement_types': 'CashForward',\n                                         'name': None,\n                                         'properties': {},\n                                         'side': 'Side1'},\n                                        {'direction': 1,\n                                         'mappings': [],\n                                         'movement_types': 'CashForward',\n                                         'name': None,\n                                         'properties': {},\n                                         'side': 'Side2'}],\n                          'properties': {}},\n                         {'aliases': [{'description': 'cash paid/received from '\n                                                      'instrument',\n                                       'is_default': False,\n                                       'source': 'default',\n                                       'transaction_class': 'CashFlow',\n                                       'transaction_group': 'default',\n                                       'transaction_roles': 'AllRoles',\n                                       'type': 'CashFlow'}],\n                          'movements': [{'direction': 1,\n                                         'mappings': [],\n                                         'movement_types': 'CashReceivable',\n                                         'name': None,\n                                         'properties': {},\n                                         'side': 'Side2'}],\n                          'properties': {}},\n                         {'aliases': [{'description': 'Purchase',\n                                       'is_default': False,\n                                       'source': 'default',\n                                       'transaction_class': 'Basic',\n                                       'transaction_group': 'default',\n                                       'transaction_roles': 'LongLonger',\n                                       'type': 'Buy'},\n                                      {'description': 'A buy of an equity via '\n                                                      'a broker',\n                                       'is_default': False,\n                                       'source': 'default',\n                                       'transaction_class': 'Equity',\n                                       'transaction_group': 'default',\n                                       'transaction_roles': 'Longer',\n                                       'type': 'BrokerBuy'}],\n                          'movements': [{'direction': 1,\n                                         'mappings': [],\n                                         'movement_types': 'StockMovement',\n                                         'name': None,\n                                         'properties': {},\n                                         'side': 'Side1'},\n                                        {'direction': -1,\n                                         'mappings': [],\n                                         'movement_types': 'CashCommitment',\n                                         'name': None,\n                                         'properties': {},\n                                         'side': 'Side2'}],\n                          'properties': {}},\n                         {'aliases': [{'description': 'Sale',\n                                       'is_default': False,\n                                       'source': 'default',\n                                       'transaction_class': 'Basic',\n                                       'transaction_group': 'default',\n                                       'transaction_roles': 'LongShorter',\n                                       'type': 'Sell'},\n                                      {'description': 'A sale of an equity via '\n                                                      'a broker',\n                                       'is_default': False,\n                                       'source': 'default',\n                                       'transaction_class': 'Equity',\n                                       'transaction_group': 'default',\n                                       'transaction_roles': 'Shorter',\n                                       'type': 'BrokerSell'}],\n                          'movements': [{'direction': -1,\n                                         'mappings': [],\n                                         'movement_types': 'StockMovement',\n                                         'name': None,\n                                         'properties': {},\n                                         'side': 'Side1'},\n                                        {'direction': 1,\n                                         'mappings': [],\n                                         'movement_types': 'CashCommitment',\n                                         'name': None,\n                                         'properties': {},\n                                         'side': 'Side2'}],\n                          'properties': {}},\n                         {'aliases': [{'description': 'Cover Short ',\n                                       'is_default': False,\n                                       'source': 'default',\n                                       'transaction_class': 'Basic',\n                                       'transaction_group': 'default',\n                                       'transaction_roles': 'ShortLonger',\n                                       'type': 'CoverShort'}],\n                          'movements': [{'direction': 1,\n                                         'mappings': [],\n                                         'movement_types': 'StockMovement',\n                                         'name': None,\n                                         'properties': {},\n                                         'side': 'Side1'},\n                                        {'direction': -1,\n                                         'mappings': [],\n                                         'movement_types': 'CashCommitment',\n                                         'name': None,\n                                         'properties': {},\n                                         'side': 'Side2'}],\n                          'properties': {}},\n                         {'aliases': [{'description': 'Sell Short',\n                                       'is_default': False,\n                                       'source': 'default',\n                                       'transaction_class': 'Basic',\n                                       'transaction_group': 'default',\n                                       'transaction_roles': 'ShortShorter',\n                                       'type': 'SellShort'}],\n                          'movements': [{'direction': -1,\n                                         'mappings': [],\n                                         'movement_types': 'StockMovement',\n                                         'name': None,\n                                         'properties': {},\n                                         'side': 'Side1'},\n                                        {'direction': 1,\n                                         'mappings': [],\n                                         'movement_types': 'CashCommitment',\n                                         'name': None,\n                                         'properties': {},\n                                         'side': 'Side2'}],\n                          'properties': {}},\n                         {'aliases': [{'description': 'Transfer In',\n                                       'is_default': False,\n                                       'source': 'default',\n                                       'transaction_class': 'StockTransfers',\n                                       'transaction_group': 'default',\n                                       'transaction_roles': 'Longer',\n                                       'type': 'StockIn'}],\n                          'movements': [{'direction': 1,\n                                         'mappings': [],\n                                         'movement_types': 'StockMovement',\n                                         'name': None,\n                                         'properties': {},\n                                         'side': 'Side1'}],\n                          'properties': {}},\n                         {'aliases': [{'description': 'Transfer Out',\n                                       'is_default': False,\n                                       'source': 'default',\n                                       'transaction_class': 'StockTransfers',\n                                       'transaction_group': 'default',\n                                       'transaction_roles': 'Shorter',\n                                       'type': 'StockOut'}],\n                          'movements': [{'direction': -1,\n                                         'mappings': [],\n                                         'movement_types': 'StockMovement',\n                                         'name': None,\n                                         'properties': {},\n                                         'side': 'Side1'}],\n                          'properties': {}},\n                         {'aliases': [{'description': 'Spot FX Purchase',\n                                       'is_default': False,\n                                       'source': 'default',\n                                       'transaction_class': 'SpotFx',\n                                       'transaction_group': 'default',\n                                       'transaction_roles': 'Longer',\n                                       'type': 'FxBuy'}],\n                          'movements': [{'direction': 1,\n                                         'mappings': [],\n                                         'movement_types': 'CashCommitment',\n                                         'name': None,\n                                         'properties': {},\n                                         'side': 'Side1'},\n                                        {'direction': -1,\n                                         'mappings': [],\n                                         'movement_types': 'CashCommitment',\n                                         'name': None,\n                                         'properties': {},\n                                         'side': 'Side2'}],\n                          'properties': {}},\n                         {'aliases': [{'description': 'Spot FX Sale',\n                                       'is_default': False,\n                                       'source': 'default',\n                                       'transaction_class': 'SpotFx',\n                                       'transaction_group': 'default',\n                                       'transaction_roles': 'Shorter',\n                                       'type': 'FxSell'}],\n                          'movements': [{'direction': -1,\n                                         'mappings': [],\n                                         'movement_types': 'CashCommitment',\n                                         'name': None,\n                                         'properties': {},\n                                         'side': 'Side1'},\n                                        {'direction': 1,\n                                         'mappings': [],\n                                         'movement_types': 'CashCommitment',\n                                         'name': None,\n                                         'properties': {},\n                                         'side': 'Side2'}],\n                          'properties': {}},\n                         {'aliases': [{'description': 'Forward FX Purchase',\n                                       'is_default': False,\n                                       'source': 'default',\n                                       'transaction_class': 'FwdFx',\n                                       'transaction_group': 'default',\n                                       'transaction_roles': 'Longer',\n                                       'type': 'FwdFxBuy'}],\n                          'movements': [{'direction': 1,\n                                         'mappings': [],\n                                         'movement_types': 'CashForward',\n                                         'name': None,\n                                         'properties': {},\n                                         'side': 'Side1'},\n                                        {'direction': -1,\n                                         'mappings': [],\n                                         'movement_types': 'CashForward',\n                                         'name': None,\n                                         'properties': {},\n                                         'side': 'Side2'}],\n                          'properties': {}},\n                         {'aliases': [{'description': 'Forward FX Sale',\n                                       'is_default': False,\n                                       'source': 'default',\n                                       'transaction_class': 'FwdFx',\n                                       'transaction_group': 'default',\n                                       'transaction_roles': 'Shorter',\n                                       'type': 'FwdFxSell'}],\n                          'movements': [{'direction': -1,\n                                         'mappings': [],\n                                         'movement_types': 'CashForward',\n                                         'name': None,\n                                         'properties': {},\n                                         'side': 'Side1'},\n                                        {'direction': 1,\n                                         'mappings': [],\n                                         'movement_types': 'CashForward',\n                                         'name': None,\n                                         'properties': {},\n                                         'side': 'Side2'}],\n                          'properties': {}},\n                         {'aliases': [{'description': 'Deposit New Funds',\n                                       'is_default': False,\n                                       'source': 'default',\n                                       'transaction_class': 'CashTransfers',\n                                       'transaction_group': 'default',\n                                       'transaction_roles': 'Longer',\n                                       'type': 'FundsIn'}],\n                          'movements': [{'direction': 1,\n                                         'mappings': [],\n                                         'movement_types': 'CashAccrual',\n                                         'name': None,\n                                         'properties': {},\n                                         'side': 'Side1'}],\n                          'properties': {}},\n                         {'aliases': [{'description': 'Withdraw Funds',\n                                       'is_default': False,\n                                       'source': 'default',\n                                       'transaction_class': 'CashTransfers',\n                                       'transaction_group': 'default',\n                                       'transaction_roles': 'Shorter',\n                                       'type': 'FundsOut'}],\n                          'movements': [{'direction': -1,\n                                         'mappings': [],\n                                         'movement_types': 'CashAccrual',\n                                         'name': None,\n                                         'properties': {},\n                                         'side': 'Side1'}],\n                          'properties': {}},\n                         {'aliases': [{'description': 'Open Long Futures '\n                                                      'Contract',\n                                       'is_default': False,\n                                       'source': 'default',\n                                       'transaction_class': 'Futures',\n                                       'transaction_group': 'default',\n                                       'transaction_roles': 'LongLonger',\n                                       'type': 'OLFC'}],\n                          'movements': [{'direction': 1,\n                                         'mappings': [],\n                                         'movement_types': 'StockMovement',\n                                         'name': None,\n                                         'properties': {'TransactionConfiguration/default/TaxLotSelectionMethod': {'key': 'TransactionConfiguration/default/TaxLotSelectionMethod',\n                                                                                                                   'value': {'label_value': 'FirstInFirstOut',\n                                                                                                                             'label_value_set': None,\n                                                                                                                             'metric_value': None}}},\n                                         'side': 'Side1'},\n                                        {'direction': -1,\n                                         'mappings': [],\n                                         'movement_types': 'CashCommitment',\n                                         'name': None,\n                                         'properties': {},\n                                         'side': 'Side2'}],\n                          'properties': {}},\n                         {'aliases': [{'description': 'Close Long Futures '\n                                                      'Contract',\n                                       'is_default': False,\n                                       'source': 'default',\n                                       'transaction_class': 'Futures',\n                                       'transaction_group': 'default',\n                                       'transaction_roles': 'LongShorter',\n                                       'type': 'CLFC'}],\n                          'movements': [{'direction': -1,\n                                         'mappings': [],\n                                         'movement_types': 'StockMovement',\n                                         'name': None,\n                                         'properties': {'TransactionConfiguration/default/TaxLotSelectionMethod': {'key': 'TransactionConfiguration/default/TaxLotSelectionMethod',\n                                                                                                                   'value': {'label_value': 'FirstInFirstOut',\n                                                                                                                             'label_value_set': None,\n                                                                                                                             'metric_value': None}}},\n                                         'side': 'Side1'},\n                                        {'direction': 1,\n                                         'mappings': [],\n                                         'movement_types': 'CashCommitment',\n                                         'name': None,\n                                         'properties': {},\n                                         'side': 'Side2'}],\n                          'properties': {}},\n                         {'aliases': [{'description': 'Open Short Futures '\n                                                      'Contract',\n                                       'is_default': False,\n                                       'source': 'default',\n                                       'transaction_class': 'Futures',\n                                       'transaction_group': 'default',\n                                       'transaction_roles': 'ShortShorter',\n                                       'type': 'OSFC'}],\n                          'movements': [{'direction': -1,\n                                         'mappings': [],\n                                         'movement_types': 'StockMovement',\n                                         'name': None,\n                                         'properties': {'TransactionConfiguration/default/TaxLotSelectionMethod': {'key': 'TransactionConfiguration/default/TaxLotSelectionMethod',\n                                                                                                                   'value': {'label_value': 'FirstInFirstOut',\n                                                                                                                             'label_value_set': None,\n                                                                                                                             'metric_value': None}}},\n                                         'side': 'Side1'},\n                                        {'direction': 1,\n                                         'mappings': [],\n                                         'movement_types': 'CashCommitment',\n                                         'name': None,\n                                         'properties': {},\n                                         'side': 'Side2'}],\n                          'properties': {}},\n                         {'aliases': [{'description': 'Close Short Futures '\n                                                      'Contract',\n                                       'is_default': False,\n                                       'source': 'default',\n                                       'transaction_class': 'Futures',\n                                       'transaction_group': 'default',\n                                       'transaction_roles': 'ShortLonger',\n                                       'type': 'CSFC'}],\n                          'movements': [{'direction': 1,\n                                         'mappings': [],\n                                         'movement_types': 'StockMovement',\n                                         'name': None,\n                                         'properties': {'TransactionConfiguration/default/TaxLotSelectionMethod': {'key': 'TransactionConfiguration/default/TaxLotSelectionMethod',\n                                                                                                                   'value': {'label_value': 'FirstInFirstOut',\n                                                                                                                             'label_value_set': None,\n                                                                                                                             'metric_value': None}}},\n                                         'side': 'Side1'},\n                                        {'direction': -1,\n                                         'mappings': [],\n                                         'movement_types': 'CashCommitment',\n                                         'name': None,\n                                         'properties': {},\n                                         'side': 'Side2'}],\n                          'properties': {}},\n                         {'aliases': [{'description': 'A cash payments from '\n                                                      'dividends',\n                                       'is_default': False,\n                                       'source': 'default',\n                                       'transaction_class': 'default',\n                                       'transaction_group': 'default',\n                                       'transaction_roles': 'Longer',\n                                       'type': 'DividendCash'}],\n                          'movements': [{'direction': 1,\n                                         'mappings': [],\n                                         'movement_types': 'CashCommitment',\n                                         'name': None,\n                                         'properties': {},\n                                         'side': 'Side2'}],\n                          'properties': {}},\n                         {'aliases': [{'description': 'A cash payment for '\n                                                      'interest accrued, '\n                                                      'following a sale of a '\n                                                      'bond',\n                                       'is_default': False,\n                                       'source': 'default',\n                                       'transaction_class': 'AccruedInterest',\n                                       'transaction_group': 'default',\n                                       'transaction_roles': 'Longer',\n                                       'type': 'AccruedInterestIn'}],\n                          'movements': [{'direction': 1,\n                                         'mappings': [],\n                                         'movement_types': 'CashCommitment',\n                                         'name': None,\n                                         'properties': {},\n                                         'side': 'Side2'}],\n                          'properties': {}},\n                         {'aliases': [{'description': 'A cash payment for '\n                                                      'interest accrued, '\n                                                      'following the purchase '\n                                                      'of a bond',\n                                       'is_default': False,\n                                       'source': 'default',\n                                       'transaction_class': 'AccruedInterest',\n                                       'transaction_group': 'default',\n                                       'transaction_roles': 'Shorter',\n                                       'type': 'AccruedInterestOut'}],\n                          'movements': [{'direction': -1,\n                                         'mappings': [],\n                                         'movement_types': 'CashCommitment',\n                                         'name': None,\n                                         'properties': {},\n                                         'side': 'Side2'}],\n                          'properties': {}},\n                         {'aliases': [{'description': 'Purchase of bond '\n                                                      'including payment of '\n                                                      'accrued interest',\n                                       'is_default': False,\n                                       'source': 'default',\n                                       'transaction_class': 'Basic',\n                                       'transaction_group': 'default',\n                                       'transaction_roles': 'LongLonger',\n                                       'type': 'BondBuy'}],\n                          'movements': [{'direction': 1,\n                                         'mappings': [],\n                                         'movement_types': 'StockMovement',\n                                         'name': None,\n                                         'properties': {},\n                                         'side': 'Side1'},\n                                        {'direction': -1,\n                                         'mappings': [{'map_from': None,\n                                                       'property_key': 'Transaction/common/HoldingType',\n                                                       'set_to': 'Cash'}],\n                                         'movement_types': 'CashCommitment',\n                                         'name': None,\n                                         'properties': {},\n                                         'side': 'Side2'},\n                                        {'direction': -1,\n                                         'mappings': [{'map_from': None,\n                                                       'property_key': 'Transaction/common/HoldingType',\n                                                       'set_to': 'AccruedInterest'}],\n                                         'movement_types': 'CashCommitment',\n                                         'name': None,\n                                         'properties': {},\n                                         'side': 'BondInt'}],\n                          'properties': {}},\n                         {'aliases': [{'description': 'A purchase of a bond '\n                                                      'with payment of accrued '\n                                                      'interest',\n                                       'is_default': False,\n                                       'source': 'default',\n                                       'transaction_class': 'Basic',\n                                       'transaction_group': 'default',\n                                       'transaction_roles': 'LongLonger',\n                                       'type': 'BondPurch'}],\n                          'movements': [{'direction': 1,\n                                         'mappings': [{'map_from': None,\n                                                       'property_key': 'Transaction/common/HoldingType',\n                                                       'set_to': 'FixedIncome'}],\n                                         'movement_types': 'StockMovement',\n                                         'name': None,\n                                         'properties': {},\n                                         'side': 'Side1'},\n                                        {'direction': -1,\n                                         'mappings': [{'map_from': None,\n                                                       'property_key': 'Transaction/common/HoldingType',\n                                                       'set_to': 'AccruedInterest'}],\n                                         'movement_types': 'CashCommitment',\n                                         'name': None,\n                                         'properties': {},\n                                         'side': 'AccruedInterest'}],\n                          'properties': {}},\n                         {'aliases': [{'description': 'Cancel Trade',\n                                       'is_default': False,\n                                       'source': 'default',\n                                       'transaction_class': 'CANCEL',\n                                       'transaction_group': 'default',\n                                       'transaction_roles': 'AllRoles',\n                                       'type': 'CANCEL'},\n                                      {'description': 'Cancel Trade',\n                                       'is_default': False,\n                                       'source': 'default',\n                                       'transaction_class': 'BUYCANCEL',\n                                       'transaction_group': 'default',\n                                       'transaction_roles': 'AllRoles',\n                                       'type': 'BUYCANCEL'},\n                                      {'description': 'Cancel Trade',\n                                       'is_default': False,\n                                       'source': 'default',\n                                       'transaction_class': 'SELLCANCEL',\n                                       'transaction_group': 'default',\n                                       'transaction_roles': 'AllRoles',\n                                       'type': 'SELLCANCEL'}],\n                          'movements': [],\n                          'properties': {}},\n                         {'aliases': [{'description': 'Tax for the dividend '\n                                                      'payment',\n                                       'is_default': False,\n                                       'source': 'default',\n                                       'transaction_class': 'Basic',\n                                       'transaction_group': 'default',\n                                       'transaction_roles': 'Longer',\n                                       'type': 'WithholdingTax'}],\n                          'movements': [{'direction': -1,\n                                         'mappings': [],\n                                         'movement_types': 'CashCommitment',\n                                         'name': None,\n                                         'properties': {},\n                                         'side': 'Side2'}],\n                          'properties': {}},\n                         {'aliases': [{'description': 'Special Short',\n                                       'is_default': False,\n                                       'source': 'default',\n                                       'transaction_class': 'Basic',\n                                       'transaction_group': 'default',\n                                       'transaction_roles': 'Shorter',\n                                       'type': 'SpecialShort'}],\n                          'movements': [{'direction': -1,\n                                         'mappings': [{'map_from': None,\n                                                       'property_key': 'Transaction/generated/Direction',\n                                                       'set_to': 'Short'}],\n                                         'movement_types': 'StockMovement',\n                                         'name': None,\n                                         'properties': {},\n                                         'side': 'Side1'},\n                                        {'direction': 1,\n                                         'mappings': [],\n                                         'movement_types': 'CashCommitment',\n                                         'name': None,\n                                         'properties': {},\n                                         'side': 'Side2'}],\n                          'properties': {}},\n                         {'aliases': [{'description': 'cust_buy',\n                                       'is_default': False,\n                                       'source': 'lusid_security_services',\n                                       'transaction_class': 'cust_buy',\n                                       'transaction_group': 'lusid_security_services',\n                                       'transaction_roles': 'AllRoles',\n                                       'type': 'cust_buy'}],\n                          'movements': [{'direction': 1,\n                                         'mappings': [{'map_from': None,\n                                                       'property_key': 'Transaction/custodian/AssetType',\n                                                       'set_to': 'Stock'}],\n                                         'movement_types': 'StockMovement',\n                                         'name': None,\n                                         'properties': {},\n                                         'side': 'Side1'},\n                                        {'direction': -1,\n                                         'mappings': [{'map_from': None,\n                                                       'property_key': 'Transaction/custodian/AssetType',\n                                                       'set_to': 'Cash'}],\n                                         'movement_types': 'CashCommitment',\n                                         'name': None,\n                                         'properties': {},\n                                         'side': 'Side2'},\n                                        {'direction': -1,\n                                         'mappings': [{'map_from': None,\n                                                       'property_key': 'Transaction/custodian/AssetType',\n                                                       'set_to': 'Commission'}],\n                                         'movement_types': 'CashCommitment',\n                                         'name': None,\n                                         'properties': {},\n                                         'side': 'TradeCommissions'}],\n                          'properties': {}},\n                         {'aliases': [{'description': 'custodian_sub',\n                                       'is_default': False,\n                                       'source': 'lusid_security_services',\n                                       'transaction_class': 'custodian_sub',\n                                       'transaction_group': 'lusid_security_services',\n                                       'transaction_roles': 'AllRoles',\n                                       'type': 'custodian_sub'}],\n                          'movements': [{'direction': 1,\n                                         'mappings': [{'map_from': None,\n                                                       'property_key': 'Transaction/custodian/AssetType',\n                                                       'set_to': 'Cash'}],\n                                         'movement_types': 'CashAccrual',\n                                         'name': None,\n                                         'properties': {},\n                                         'side': 'Side1'}],\n                          'properties': {}},\n                         {'aliases': [{'description': 'A buy of an equity via '\n                                                      'a broker',\n                                       'is_default': False,\n                                       'source': 'BrokerSystem',\n                                       'transaction_class': 'Equity',\n                                       'transaction_group': 'BrokerSystem',\n                                       'transaction_roles': 'Longer',\n                                       'type': 'BrokerBuy'}],\n                          'movements': [{'direction': 1,\n                                         'mappings': [],\n                                         'movement_types': 'StockMovement',\n                                         'name': None,\n                                         'properties': {},\n                                         'side': 'Side1'},\n                                        {'direction': -1,\n                                         'mappings': [],\n                                         'movement_types': 'CashCommitment',\n                                         'name': None,\n                                         'properties': {},\n                                         'side': 'Side2'}],\n                          'properties': {}},\n                         {'aliases': [{'description': 'A sale of an equity via '\n                                                      'a broker',\n                                       'is_default': False,\n                                       'source': 'BrokerSystem',\n                                       'transaction_class': 'Equity',\n                                       'transaction_group': 'BrokerSystem',\n                                       'transaction_roles': 'Shorter',\n                                       'type': 'BrokerSell'}],\n                          'movements': [{'direction': 1,\n                                         'mappings': [],\n                                         'movement_types': 'StockMovement',\n                                         'name': None,\n                                         'properties': {},\n                                         'side': 'Side1'},\n                                        {'direction': 1,\n                                         'mappings': [],\n                                         'movement_types': 'CashCommitment',\n                                         'name': None,\n                                         'properties': {},\n                                         'side': 'Side2'}],\n                          'properties': {}},\n                         {'aliases': [{'description': 'PURCHASE',\n                                       'is_default': False,\n                                       'source': 'alt1',\n                                       'transaction_class': 'Basic',\n                                       'transaction_group': 'alt1',\n                                       'transaction_roles': 'LongLonger',\n                                       'type': 'BY'}],\n                          'movements': [{'direction': 1,\n                                         'mappings': [],\n                                         'movement_types': 'StockMovement',\n                                         'name': None,\n                                         'properties': {},\n                                         'side': 'Side1'},\n                                        {'direction': -1,\n                                         'mappings': [],\n                                         'movement_types': 'CashCommitment',\n                                         'name': None,\n                                         'properties': {},\n                                         'side': 'Side2'}],\n                          'properties': {}},\n                         {'aliases': [{'description': 'SALE',\n                                       'is_default': False,\n                                       'source': 'alt1',\n                                       'transaction_class': 'Basic',\n                                       'transaction_group': 'alt1',\n                                       'transaction_roles': 'LongShorter',\n                                       'type': 'SL'}],\n                          'movements': [{'direction': -1,\n                                         'mappings': [],\n                                         'movement_types': 'StockMovement',\n                                         'name': None,\n                                         'properties': {},\n                                         'side': 'Side1'},\n                                        {'direction': 1,\n                                         'mappings': [],\n                                         'movement_types': 'CashCommitment',\n                                         'name': None,\n                                         'properties': {},\n                                         'side': 'Side2'}],\n                          'properties': {}},\n                         {'aliases': [{'description': 'COVER SHORT ',\n                                       'is_default': False,\n                                       'source': 'alt1',\n                                       'transaction_class': 'Basic',\n                                       'transaction_group': 'alt1',\n                                       'transaction_roles': 'ShortLonger',\n                                       'type': 'CS'}],\n                          'movements': [{'direction': 1,\n                                         'mappings': [],\n                                         'movement_types': 'StockMovement',\n                                         'name': None,\n                                         'properties': {},\n                                         'side': 'Side1'},\n                                        {'direction': -1,\n                                         'mappings': [],\n                                         'movement_types': 'CashCommitment',\n                                         'name': None,\n                                         'properties': {},\n                                         'side': 'Side2'}],\n                          'properties': {}},\n                         {'aliases': [{'description': 'SELL SHORT',\n                                       'is_default': False,\n                                       'source': 'alt1',\n                                       'transaction_class': 'Basic',\n                                       'transaction_group': 'alt1',\n                                       'transaction_roles': 'ShortShorter',\n                                       'type': 'SS'}],\n                          'movements': [{'direction': -1,\n                                         'mappings': [],\n                                         'movement_types': 'StockMovement',\n                                         'name': None,\n                                         'properties': {},\n                                         'side': 'Side1'},\n                                        {'direction': 1,\n                                         'mappings': [],\n                                         'movement_types': 'CashCommitment',\n                                         'name': None,\n                                         'properties': {},\n                                         'side': 'Side2'}],\n                          'properties': {}},\n                         {'aliases': [{'description': 'SECURITY IN',\n                                       'is_default': False,\n                                       'source': 'alt1',\n                                       'transaction_class': 'StockTransfers',\n                                       'transaction_group': 'alt1',\n                                       'transaction_roles': 'LongLonger',\n                                       'type': 'SI'},\n                                      {'description': 'SHORT SECURITY OUT',\n                                       'is_default': False,\n                                       'source': 'alt1',\n                                       'transaction_class': 'StockTransfers',\n                                       'transaction_group': 'alt1',\n                                       'transaction_roles': 'ShortLonger',\n                                       'type': 'SW'}],\n                          'movements': [{'direction': 1,\n                                         'mappings': [],\n                                         'movement_types': 'StockMovement',\n                                         'name': None,\n                                         'properties': {},\n                                         'side': 'Side1'}],\n                          'properties': {}},\n                         {'aliases': [{'description': 'SECURITY OUT',\n                                       'is_default': False,\n                                       'source': 'alt1',\n                                       'transaction_class': 'StockTransfers',\n                                       'transaction_group': 'alt1',\n                                       'transaction_roles': 'LongShorter',\n                                       'type': 'SO'},\n                                      {'description': 'SHORT SECURITY IN',\n                                       'is_default': False,\n                                       'source': 'alt1',\n                                       'transaction_class': 'StockTransfers',\n                                       'transaction_group': 'alt1',\n                                       'transaction_roles': 'ShortShorter',\n                                       'type': 'SA'}],\n                          'movements': [{'direction': -1,\n                                         'mappings': [],\n                                         'movement_types': 'StockMovement',\n                                         'name': None,\n                                         'properties': {},\n                                         'side': 'Side1'}],\n                          'properties': {}},\n                         {'aliases': [{'description': 'SPOT FX',\n                                       'is_default': False,\n                                       'source': 'alt1',\n                                       'transaction_class': 'SpotFx',\n                                       'transaction_group': 'alt1',\n                                       'transaction_roles': 'Longer',\n                                       'type': 'SF'}],\n                          'movements': [{'direction': -1,\n                                         'mappings': [],\n                                         'movement_types': 'CashCommitment',\n                                         'name': None,\n                                         'properties': {},\n                                         'side': 'Side1'},\n                                        {'direction': 1,\n                                         'mappings': [],\n                                         'movement_types': 'CashCommitment',\n                                         'name': None,\n                                         'properties': {},\n                                         'side': 'Side2'}],\n                          'properties': {}},\n                         {'aliases': [{'description': 'FORWARD FX',\n                                       'is_default': False,\n                                       'source': 'alt1',\n                                       'transaction_class': 'FwdFx',\n                                       'transaction_group': 'alt1',\n                                       'transaction_roles': 'Shorter',\n                                       'type': 'FF'}],\n                          'movements': [{'direction': -1,\n                                         'mappings': [],\n                                         'movement_types': 'CashForward',\n                                         'name': None,\n                                         'properties': {},\n                                         'side': 'Side1'},\n                                        {'direction': 1,\n                                         'mappings': [],\n                                         'movement_types': 'CashForward',\n                                         'name': None,\n                                         'properties': {},\n                                         'side': 'Side2'}],\n                          'properties': {}},\n                         {'aliases': [{'description': 'FUNDS IN',\n                                       'is_default': False,\n                                       'source': 'alt1',\n                                       'transaction_class': 'CashTransfers',\n                                       'transaction_group': 'alt1',\n                                       'transaction_roles': 'Longer',\n                                       'type': 'FI'}],\n                          'movements': [{'direction': 1,\n                                         'mappings': [],\n                                         'movement_types': 'CashAccrual',\n                                         'name': None,\n                                         'properties': {},\n                                         'side': 'Side1'}],\n                          'properties': {}},\n                         {'aliases': [{'description': 'FUNDS OUT',\n                                       'is_default': False,\n                                       'source': 'alt1',\n                                       'transaction_class': 'CashTransfers',\n                                       'transaction_group': 'alt1',\n                                       'transaction_roles': 'Shorter',\n                                       'type': 'FO'}],\n                          'movements': [{'direction': -1,\n                                         'mappings': [],\n                                         'movement_types': 'CashAccrual',\n                                         'name': None,\n                                         'properties': {},\n                                         'side': 'Side1'}],\n                          'properties': {}},\n                         {'aliases': [{'description': 'OPEN LONG FUTURES '\n                                                      'CONTRACT',\n                                       'is_default': False,\n                                       'source': 'alt1',\n                                       'transaction_class': 'Futures',\n                                       'transaction_group': 'alt1',\n                                       'transaction_roles': 'LongLonger',\n                                       'type': 'O1'}],\n                          'movements': [{'direction': 1,\n                                         'mappings': [],\n                                         'movement_types': 'StockMovement',\n                                         'name': None,\n                                         'properties': {'TransactionConfiguration/default/TaxLotSelectionMethod': {'key': 'TransactionConfiguration/default/TaxLotSelectionMethod',\n                                                                                                                   'value': {'label_value': 'FirstInFirstOut',\n                                                                                                                             'label_value_set': None,\n                                                                                                                             'metric_value': None}}},\n                                         'side': 'Side1'},\n                                        {'direction': -1,\n                                         'mappings': [],\n                                         'movement_types': 'CashCommitment',\n                                         'name': None,\n                                         'properties': {},\n                                         'side': 'Side2'}],\n                          'properties': {}},\n                         {'aliases': [{'description': 'CLOSE LONG FUTURES '\n                                                      'CONTRACT',\n                                       'is_default': False,\n                                       'source': 'alt1',\n                                       'transaction_class': 'Futures',\n                                       'transaction_group': 'alt1',\n                                       'transaction_roles': 'LongShorter',\n                                       'type': 'C1'}],\n                          'movements': [{'direction': -1,\n                                         'mappings': [],\n                                         'movement_types': 'StockMovement',\n                                         'name': None,\n                                         'properties': {'TransactionConfiguration/default/TaxLotSelectionMethod': {'key': 'TransactionConfiguration/default/TaxLotSelectionMethod',\n                                                                                                                   'value': {'label_value': 'FirstInFirstOut',\n                                                                                                                             'label_value_set': None,\n                                                                                                                             'metric_value': None}}},\n                                         'side': 'Side1'},\n                                        {'direction': 1,\n                                         'mappings': [],\n                                         'movement_types': 'CashCommitment',\n                                         'name': None,\n                                         'properties': {},\n                                         'side': 'Side2'}],\n                          'properties': {}},\n                         {'aliases': [{'description': 'OPEN SHORT FUTURES '\n                                                      'CONTRACT',\n                                       'is_default': False,\n                                       'source': 'alt1',\n                                       'transaction_class': 'Futures',\n                                       'transaction_group': 'alt1',\n                                       'transaction_roles': 'ShortShorter',\n                                       'type': 'O3'}],\n                          'movements': [{'direction': -1,\n                                         'mappings': [],\n                                         'movement_types': 'StockMovement',\n                                         'name': None,\n                                         'properties': {'TransactionConfiguration/default/TaxLotSelectionMethod': {'key': 'TransactionConfiguration/default/TaxLotSelectionMethod',\n                                                                                                                   'value': {'label_value': 'FirstInFirstOut',\n                                                                                                                             'label_value_set': None,\n                                                                                                                             'metric_value': None}}},\n                                         'side': 'Side1'},\n                                        {'direction': 1,\n                                         'mappings': [],\n                                         'movement_types': 'CashCommitment',\n                                         'name': None,\n                                         'properties': {},\n                                         'side': 'Side2'}],\n                          'properties': {}},\n                         {'aliases': [{'description': 'CLOSE SHORT FUTURES '\n                                                      'CONTRACT',\n                                       'is_default': False,\n                                       'source': 'alt1',\n                                       'transaction_class': 'Futures',\n                                       'transaction_group': 'alt1',\n                                       'transaction_roles': 'ShortLonger',\n                                       'type': 'C3'}],\n                          'movements': [{'direction': 1,\n                                         'mappings': [],\n                                         'movement_types': 'StockMovement',\n                                         'name': None,\n                                         'properties': {'TransactionConfiguration/default/TaxLotSelectionMethod': {'key': 'TransactionConfiguration/default/TaxLotSelectionMethod',\n                                                                                                                   'value': {'label_value': 'FirstInFirstOut',\n                                                                                                                             'label_value_set': None,\n                                                                                                                             'metric_value': None}}},\n                                         'side': 'Side1'},\n                                        {'direction': -1,\n                                         'mappings': [],\n                                         'movement_types': 'CashCommitment',\n                                         'name': None,\n                                         'properties': {},\n                                         'side': 'Side2'}],\n                          'properties': {}},\n                         {'aliases': [{'description': 'A private corporate '\n                                                      'loan to a company',\n                                       'is_default': False,\n                                       'source': 'PrivateDebt',\n                                       'transaction_class': 'Loan',\n                                       'transaction_group': 'PrivateDebt',\n                                       'transaction_roles': 'ShortLonger',\n                                       'type': 'Loan'}],\n                          'movements': [{'direction': 1,\n                                         'mappings': [],\n                                         'movement_types': 'StockMovement',\n                                         'name': None,\n                                         'properties': {'TransactionConfiguration/default/TaxLotSelectionMethod': {'key': 'TransactionConfiguration/default/TaxLotSelectionMethod',\n                                                                                                                   'value': {'label_value': 'FirstInFirstOut',\n                                                                                                                             'label_value_set': None,\n                                                                                                                             'metric_value': None}}},\n                                         'side': 'Side1'},\n                                        {'direction': -1,\n                                         'mappings': [],\n                                         'movement_types': 'CashCommitment',\n                                         'name': None,\n                                         'properties': {},\n                                         'side': 'Side2'}],\n                          'properties': {}},\n                         {'aliases': [{'description': 'A coupon payment from a '\n                                                      'private corporate loan '\n                                                      'to a company',\n                                       'is_default': False,\n                                       'source': 'PrivateDebt',\n                                       'transaction_class': 'Loan',\n                                       'transaction_group': 'PrivateDebt',\n                                       'transaction_roles': 'Longer',\n                                       'type': 'Coupon'}],\n                          'movements': [{'direction': 1,\n                                         'mappings': [],\n                                         'movement_types': 'CashCommitment',\n                                         'name': None,\n                                         'properties': {},\n                                         'side': 'Side2'}],\n                          'properties': {}},\n                         {'aliases': [{'description': 'A partial or full '\n                                                      'repayment from a '\n                                                      'private corporate loan '\n                                                      'to a company',\n                                       'is_default': False,\n                                       'source': 'PrivateDebt',\n                                       'transaction_class': 'Loan',\n                                       'transaction_group': 'PrivateDebt',\n                                       'transaction_roles': 'LongShorter',\n                                       'type': 'Repayment'}],\n                          'movements': [{'direction': -1,\n                                         'mappings': [],\n                                         'movement_types': 'StockMovement',\n                                         'name': None,\n                                         'properties': {'TransactionConfiguration/default/TaxLotSelectionMethod': {'key': 'TransactionConfiguration/default/TaxLotSelectionMethod',\n                                                                                                                   'value': {'label_value': 'FirstInFirstOut',\n                                                                                                                             'label_value_set': None,\n                                                                                                                             'metric_value': None}}},\n                                         'side': 'Side1'},\n                                        {'direction': 1,\n                                         'mappings': [],\n                                         'movement_types': 'CashCommitment',\n                                         'name': None,\n                                         'properties': {},\n                                         'side': 'Side2'}],\n                          'properties': {}},\n                         {'aliases': [{'description': 'A cash payments from '\n                                                      'dividends',\n                                       'is_default': False,\n                                       'source': 'custodian',\n                                       'transaction_class': 'custodian',\n                                       'transaction_group': 'custodian',\n                                       'transaction_roles': 'Longer',\n                                       'type': 'DividendCash'}],\n                          'movements': [{'direction': 1,\n                                         'mappings': [],\n                                         'movement_types': 'CashCommitment',\n                                         'name': None,\n                                         'properties': {},\n                                         'side': 'Side2'}],\n                          'properties': {}},\n                         {'aliases': [{'description': 'A cash payments from '\n                                                      'dividends',\n                                       'is_default': False,\n                                       'source': 'common',\n                                       'transaction_class': 'common',\n                                       'transaction_group': 'common',\n                                       'transaction_roles': 'Longer',\n                                       'type': 'DividendCash'}],\n                          'movements': [{'direction': 1,\n                                         'mappings': [],\n                                         'movement_types': 'CashCommitment',\n                                         'name': None,\n                                         'properties': {},\n                                         'side': 'Side2'}],\n                          'properties': {}},\n                         {'aliases': [{'description': 'TESTBUY1',\n                                       'is_default': False,\n                                       'source': 'SYSTEM1',\n                                       'transaction_class': 'TESTBUY1',\n                                       'transaction_group': 'SYSTEM1',\n                                       'transaction_roles': 'AllRoles',\n                                       'type': '39363e8de991ca'}],\n                          'movements': [{'direction': 1,\n                                         'mappings': [],\n                                         'movement_types': 'StockMovement',\n                                         'name': None,\n                                         'properties': {},\n                                         'side': 'Side1'},\n                                        {'direction': -1,\n                                         'mappings': [],\n                                         'movement_types': 'CashCommitment',\n                                         'name': None,\n                                         'properties': {},\n                                         'side': 'Side2'}],\n                          'properties': {}},\n                         {'aliases': [{'description': 'TESTBUY1',\n                                       'is_default': False,\n                                       'source': 'SYSTEM1',\n                                       'transaction_class': 'TESTBUY1',\n                                       'transaction_group': 'SYSTEM1',\n                                       'transaction_roles': 'AllRoles',\n                                       'type': '39477e2682256c'}],\n                          'movements': [{'direction': 1,\n                                         'mappings': [],\n                                         'movement_types': 'StockMovement',\n                                         'name': None,\n                                         'properties': {},\n                                         'side': 'Side1'},\n                                        {'direction': -1,\n                                         'mappings': [],\n                                         'movement_types': 'CashCommitment',\n                                         'name': None,\n                                         'properties': {},\n                                         'side': 'Side2'}],\n                          'properties': {}},\n                         {'aliases': [{'description': 'TESTBUY1',\n                                       'is_default': False,\n                                       'source': 'SYSTEM1',\n                                       'transaction_class': 'TESTBUY1',\n                                       'transaction_group': 'SYSTEM1',\n                                       'transaction_roles': 'AllRoles',\n                                       'type': '3947a127768d7e'}],\n                          'movements': [{'direction': 1,\n                                         'mappings': [],\n                                         'movement_types': 'StockMovement',\n                                         'name': None,\n                                         'properties': {},\n                                         'side': 'Side1'},\n                                        {'direction': -1,\n                                         'mappings': [],\n                                         'movement_types': 'CashCommitment',\n                                         'name': None,\n                                         'properties': {},\n                                         'side': 'Side2'}],\n                          'properties': {}},\n                         {'aliases': [{'description': 'TESTBUY1',\n                                       'is_default': False,\n                                       'source': 'SYSTEM1',\n                                       'transaction_class': 'TESTBUY1',\n                                       'transaction_group': 'SYSTEM1',\n                                       'transaction_roles': 'AllRoles',\n                                       'type': '3947-a137-86e4-3a'}],\n                          'movements': [{'direction': 1,\n                                         'mappings': [],\n                                         'movement_types': 'StockMovement',\n                                         'name': None,\n                                         'properties': {},\n                                         'side': 'Side1'},\n                                        {'direction': 1,\n                                         'mappings': [],\n                                         'movement_types': 'CashCommitment',\n                                         'name': None,\n                                         'properties': {},\n                                         'side': 'Side2'}],\n                          'properties': {}},\n                         {'aliases': [{'description': 'TESTBUY1',\n                                       'is_default': False,\n                                       'source': 'SYSTEM1',\n                                       'transaction_class': 'TESTBUY1',\n                                       'transaction_group': 'SYSTEM1',\n                                       'transaction_roles': 'AllRoles',\n                                       'type': '3947b5984b6dfa'}],\n                          'movements': [{'direction': 1,\n                                         'mappings': [],\n                                         'movement_types': 'StockMovement',\n                                         'name': None,\n                                         'properties': {},\n                                         'side': 'Side1'},\n                                        {'direction': -1,\n                                         'mappings': [],\n                                         'movement_types': 'CashCommitment',\n                                         'name': None,\n                                         'properties': {},\n                                         'side': 'Side2'}],\n                          'properties': {}},\n                         {'aliases': [{'description': 'TESTBUY1',\n                                       'is_default': False,\n                                       'source': 'SYSTEM1',\n                                       'transaction_class': 'TESTBUY1',\n                                       'transaction_group': 'SYSTEM1',\n                                       'transaction_roles': 'AllRoles',\n                                       'type': '3947-b5a8-81c1-a4'}],\n                          'movements': [{'direction': 1,\n                                         'mappings': [],\n                                         'movement_types': 'StockMovement',\n                                         'name': None,\n                                         'properties': {},\n                                         'side': 'Side1'},\n                                        {'direction': 1,\n                                         'mappings': [],\n                                         'movement_types': 'CashCommitment',\n                                         'name': None,\n                                         'properties': {},\n                                         'side': 'Side2'}],\n                          'properties': {}},\n                         {'aliases': [{'description': 'TESTBUY1',\n                                       'is_default': False,\n                                       'source': 'SYSTEM1',\n                                       'transaction_class': 'TESTBUY1',\n                                       'transaction_group': 'SYSTEM1',\n                                       'transaction_roles': 'AllRoles',\n                                       'type': '3947b8fc0b21dc'}],\n                          'movements': [{'direction': 1,\n                                         'mappings': [],\n                                         'movement_types': 'StockMovement',\n                                         'name': None,\n                                         'properties': {},\n                                         'side': 'Side1'},\n                                        {'direction': -1,\n                                         'mappings': [],\n                                         'movement_types': 'CashCommitment',\n                                         'name': None,\n                                         'properties': {},\n                                         'side': 'Side2'}],\n                          'properties': {}},\n                         {'aliases': [{'description': 'TESTBUY1',\n                                       'is_default': False,\n                                       'source': 'SYSTEM1',\n                                       'transaction_class': 'TESTBUY1',\n                                       'transaction_group': 'SYSTEM1',\n                                       'transaction_roles': 'AllRoles',\n                                       'type': '3947-b90b-e7e2-5c'}],\n                          'movements': [{'direction': 1,\n                                         'mappings': [],\n                                         'movement_types': 'StockMovement',\n                                         'name': None,\n                                         'properties': {},\n                                         'side': 'Side1'},\n                                        {'direction': 1,\n                                         'mappings': [],\n                                         'movement_types': 'CashCommitment',\n                                         'name': None,\n                                         'properties': {},\n                                         'side': 'Side2'}],\n                          'properties': {}},\n                         {'aliases': [{'description': 'TESTBUY1',\n                                       'is_default': False,\n                                       'source': 'SYSTEM1',\n                                       'transaction_class': 'TESTBUY1',\n                                       'transaction_group': 'SYSTEM1',\n                                       'transaction_roles': 'AllRoles',\n                                       'type': 'BUY-LPT-TEST'}],\n                          'movements': [{'direction': 1,\n                                         'mappings': [],\n                                         'movement_types': 'CashAccrual',\n                                         'name': None,\n                                         'properties': {},\n                                         'side': 'Side1'},\n                                        {'direction': 1,\n                                         'mappings': [],\n                                         'movement_types': 'CashAccrual',\n                                         'name': None,\n                                         'properties': {},\n                                         'side': 'Side2'}],\n                          'properties': {}},\n                         {'aliases': [{'description': 'TESTSELL1',\n                                       'is_default': False,\n                                       'source': 'SYSTEM1',\n                                       'transaction_class': 'TESTSELL1',\n                                       'transaction_group': 'SYSTEM1',\n                                       'transaction_roles': 'AllRoles',\n                                       'type': 'SELL-LPT-TEST'}],\n                          'movements': [{'direction': -1,\n                                         'mappings': [],\n                                         'movement_types': 'CashAccrual',\n                                         'name': None,\n                                         'properties': {},\n                                         'side': 'Side1'},\n                                        {'direction': -1,\n                                         'mappings': [],\n                                         'movement_types': 'CashAccrual',\n                                         'name': None,\n                                         'properties': {},\n                                         'side': 'Side2'}],\n                          'properties': {}},\n                         {'aliases': [{'description': 'Cancel Trade',\n                                       'is_default': False,\n                                       'source': 'Cancellations',\n                                       'transaction_class': 'Cancellations',\n                                       'transaction_group': 'Cancellations',\n                                       'transaction_roles': 'Shorter',\n                                       'type': 'CANCEL'},\n                                      {'description': 'Cancel Trade',\n                                       'is_default': False,\n                                       'source': 'Cancellations',\n                                       'transaction_class': 'Cancellations',\n                                       'transaction_group': 'Cancellations',\n                                       'transaction_roles': 'Shorter',\n                                       'type': 'BUYCANCEL'},\n                                      {'description': 'Cancel Trade',\n                                       'is_default': False,\n                                       'source': 'Cancellations',\n                                       'transaction_class': 'Cancellations',\n                                       'transaction_group': 'Cancellations',\n                                       'transaction_roles': 'Shorter',\n                                       'type': 'SELLCANCEL'}],\n                          'movements': [],\n                          'properties': {}},\n                         {'aliases': [{'description': 'Cancel Trade',\n                                       'is_default': False,\n                                       'source': 'CANCEL',\n                                       'transaction_class': 'CANCEL',\n                                       'transaction_group': 'CANCEL',\n                                       'transaction_roles': 'AllRoles',\n                                       'type': 'CANCEL'}],\n                          'movements': [],\n                          'properties': {}},\n                         {'aliases': [{'description': 'Cancel Trade',\n                                       'is_default': False,\n                                       'source': 'BUYCANCEL',\n                                       'transaction_class': 'BUYCANCEL',\n                                       'transaction_group': 'BUYCANCEL',\n                                       'transaction_roles': 'AllRoles',\n                                       'type': 'BUYCANCEL'}],\n                          'movements': [],\n                          'properties': {}},\n                         {'aliases': [{'description': 'Cancel Trade',\n                                       'is_default': False,\n                                       'source': 'SELLCANCEL',\n                                       'transaction_class': 'SELLCANCEL',\n                                       'transaction_group': 'SELLCANCEL',\n                                       'transaction_roles': 'AllRoles',\n                                       'type': 'SELLCANCEL'}],\n                          'movements': [],\n                          'properties': {}},\n                         {'aliases': [{'description': 'A simple buy '\n                                                      'transaction.',\n                                       'is_default': False,\n                                       'source': 'CarryDemo',\n                                       'transaction_class': 'default',\n                                       'transaction_group': 'CarryDemo',\n                                       'transaction_roles': 'AllRoles',\n                                       'type': 'Buy'}],\n                          'movements': [{'direction': 1,\n                                         'mappings': [{'map_from': 'Transaction/CarryDemo/SecurityType',\n                                                       'property_key': 'Transaction/CarryDemo/SecurityType',\n                                                       'set_to': None}],\n                                         'movement_types': 'StockMovement',\n                                         'name': 'Stock',\n                                         'properties': {},\n                                         'side': 'Side1'},\n                                        {'direction': -1,\n                                         'mappings': [{'map_from': None,\n                                                       'property_key': 'Transaction/CarryDemo/SecurityType',\n                                                       'set_to': 'Cash'}],\n                                         'movement_types': 'CashCommitment',\n                                         'name': 'Cash',\n                                         'properties': {},\n                                         'side': 'Side2'}],\n                          'properties': {}},\n                         {'aliases': [{'description': 'A futures transaction '\n                                                      'type, opening a '\n                                                      'position with allocated '\n                                                      'margin.',\n                                       'is_default': False,\n                                       'source': 'CarryDemo',\n                                       'transaction_class': 'default',\n                                       'transaction_group': 'CarryDemo',\n                                       'transaction_roles': 'AllRoles',\n                                       'type': 'OpenContract'}],\n                          'movements': [{'direction': 1,\n                                         'mappings': [{'map_from': 'Transaction/CarryDemo/SecurityType',\n                                                       'property_key': 'Transaction/CarryDemo/SecurityType',\n                                                       'set_to': None}],\n                                         'movement_types': 'StockMovement',\n                                         'name': 'Stock',\n                                         'properties': {},\n                                         'side': 'Side1'},\n                                        {'direction': -1,\n                                         'mappings': [{'map_from': None,\n                                                       'property_key': 'Transaction/CarryDemo/SecurityType',\n                                                       'set_to': 'Collateral'}],\n                                         'movement_types': 'CashCommitment',\n                                         'name': 'Collateral',\n                                         'properties': {},\n                                         'side': 'Side2'}],\n                          'properties': {}},\n                         {'aliases': [{'description': 'A futures transaction '\n                                                      'type, opening a '\n                                                      'position with allocated '\n                                                      'margin.',\n                                       'is_default': False,\n                                       'source': 'CarryDemo',\n                                       'transaction_class': 'default',\n                                       'transaction_group': 'CarryDemo',\n                                       'transaction_roles': 'AllRoles',\n                                       'type': 'OpenShortContract'}],\n                          'movements': [{'direction': -1,\n                                         'mappings': [{'map_from': 'Transaction/CarryDemo/SecurityType',\n                                                       'property_key': 'Transaction/CarryDemo/SecurityType',\n                                                       'set_to': None}],\n                                         'movement_types': 'StockMovement',\n                                         'name': 'Stock',\n                                         'properties': {},\n                                         'side': 'Side1'},\n                                        {'direction': 1,\n                                         'mappings': [{'map_from': None,\n                                                       'property_key': 'Transaction/CarryDemo/SecurityType',\n                                                       'set_to': 'Collateral'}],\n                                         'movement_types': 'CashCommitment',\n                                         'name': 'Collateral',\n                                         'properties': {},\n                                         'side': 'Side2'}],\n                          'properties': {}},\n                         {'aliases': [{'description': 'A virtual currency buy '\n                                                      'transaction.',\n                                       'is_default': False,\n                                       'source': 'CarryDemo',\n                                       'transaction_class': 'default',\n                                       'transaction_group': 'CarryDemo',\n                                       'transaction_roles': 'AllRoles',\n                                       'type': 'VirtualCurrencyBuy'}],\n                          'movements': [{'direction': 1,\n                                         'mappings': [{'map_from': 'Transaction/CarryDemo/SecurityType',\n                                                       'property_key': 'Transaction/CarryDemo/SecurityType',\n                                                       'set_to': None}],\n                                         'movement_types': 'StockMovement',\n                                         'name': 'VirtualCurrency',\n                                         'properties': {},\n                                         'side': 'Side1'},\n                                        {'direction': -1,\n                                         'mappings': [{'map_from': None,\n                                                       'property_key': 'Transaction/CarryDemo/SecurityType',\n                                                       'set_to': 'Cash'}],\n                                         'movement_types': 'CashCommitment',\n                                         'name': 'Cash',\n                                         'properties': {},\n                                         'side': 'Side2'}],\n                          'properties': {}},\n                         {'aliases': [{'description': 'Increase cost basis and '\n                                                      'adjust collateral.',\n                                       'is_default': False,\n                                       'source': 'CarryDemo',\n                                       'transaction_class': 'default',\n                                       'transaction_group': 'CarryDemo',\n                                       'transaction_roles': 'AllRoles',\n                                       'type': 'MarginCall'}],\n                          'movements': [{'direction': 1,\n                                         'mappings': [],\n                                         'movement_types': 'VariationMargin',\n                                         'name': None,\n                                         'properties': {},\n                                         'side': 'Side2'},\n                                        {'direction': -1,\n                                         'mappings': [{'map_from': None,\n                                                       'property_key': 'Transaction/CarryDemo/SecurityType',\n                                                       'set_to': 'Collateral'}],\n                                         'movement_types': 'CashCommitment',\n                                         'name': None,\n                                         'properties': {},\n                                         'side': 'Side2'}],\n                          'properties': {}}]}"
     },
     "execution_count": 12,
     "metadata": {},
     "output_type": "execute_result"
    }
   ],
   "source": [
    "transaction_group = \"CarryDemo\"\n",
    "\n",
    "new_transaction_config = [\n",
    "    lm.TransactionConfigurationDataRequest(\n",
    "        aliases=[\n",
    "            lm.TransactionConfigurationTypeAlias(\n",
    "                type=\"OpenShortContract\",\n",
    "                description=\"A futures transaction type, opening a position with allocated margin.\",\n",
    "                transaction_class=\"default\",\n",
    "                transaction_group=transaction_group,\n",
    "                transaction_roles=\"AllRoles\",\n",
    "            )\n",
    "        ],\n",
    "        movements=[\n",
    "            lm.TransactionConfigurationMovementDataRequest(\n",
    "                movement_types=\"StockMovement\",\n",
    "                side=\"Side1\",\n",
    "                name=\"Stock\",\n",
    "                direction=-1,\n",
    "                properties=None,\n",
    "                mappings=[\n",
    "                    lm.TransactionPropertyMappingRequest(\n",
    "                        property_key=f\"Transaction/CarryDemo/SecurityType\",\n",
    "                        map_from=sec_type_property_key,\n",
    "                    )\n",
    "                ],\n",
    "            ),\n",
    "            lm.TransactionConfigurationMovementDataRequest(\n",
    "                movement_types=\"CashCommitment\",\n",
    "                name=\"Collateral\",\n",
    "                side=\"Side2\",\n",
    "                direction=1,\n",
    "                properties=None,\n",
    "                mappings=[\n",
    "                    lm.TransactionPropertyMappingRequest(\n",
    "                        property_key=sec_type_property_key,\n",
    "                        set_to=\"Collateral\",\n",
    "                    )\n",
    "                ],\n",
    "            )\n",
    "        ],\n",
    "        properties=None,\n",
    "    ),\n",
    "    lm.TransactionConfigurationDataRequest(\n",
    "        aliases=[\n",
    "            lm.TransactionConfigurationTypeAlias(\n",
    "                type=\"VirtualCurrencyBuy\",\n",
    "                description=\"A virtual currency buy transaction.\",\n",
    "                transaction_class=\"default\",\n",
    "                transaction_group=transaction_group,\n",
    "                transaction_roles=\"AllRoles\",\n",
    "            )\n",
    "        ],\n",
    "        movements=[\n",
    "            lm.TransactionConfigurationMovementDataRequest(\n",
    "                movement_types=\"StockMovement\",\n",
    "                side=\"Side1\",\n",
    "                name=\"VirtualCurrency\",\n",
    "                direction=1,\n",
    "                properties=None,\n",
    "                mappings=[\n",
    "                    lm.TransactionPropertyMappingRequest(\n",
    "                        property_key=f\"Transaction/CarryDemo/SecurityType\",\n",
    "                        map_from=sec_type_property_key,\n",
    "                    )\n",
    "                ],\n",
    "            ),\n",
    "            lm.TransactionConfigurationMovementDataRequest(\n",
    "                movement_types=\"CashCommitment\",\n",
    "                name=\"Cash\",\n",
    "                side=\"Side2\",\n",
    "                direction=-1,\n",
    "                properties=None,\n",
    "                mappings=[\n",
    "                    lm.TransactionPropertyMappingRequest(\n",
    "                        property_key=sec_type_property_key,\n",
    "                        set_to=\"Cash\",\n",
    "                    )\n",
    "                ],\n",
    "            )\n",
    "        ],\n",
    "        properties=None,\n",
    "    ),\n",
    "    lm.TransactionConfigurationDataRequest(\n",
    "        aliases=[\n",
    "            lm.TransactionConfigurationTypeAlias(\n",
    "                type=\"MarginCall\",\n",
    "                description=\"Increase cost basis and adjust collateral.\",\n",
    "                transaction_class=\"default\",\n",
    "                transaction_group=transaction_group,\n",
    "                transaction_roles=\"AllRoles\",\n",
    "            )\n",
    "        ],\n",
    "        movements=[\n",
    "            lm.TransactionConfigurationMovementDataRequest(\n",
    "                movement_types=\"VariationMargin\",\n",
    "                side=\"Side2\",\n",
    "                direction=1,\n",
    "                properties=None,\n",
    "                mappings=[],\n",
    "            ),lm.TransactionConfigurationMovementDataRequest(\n",
    "                movement_types=\"CashCommitment\",\n",
    "                side=\"Side2\",\n",
    "                direction=-1,\n",
    "                properties=None,\n",
    "                mappings=[\n",
    "                    lm.TransactionPropertyMappingRequest(\n",
    "                        property_key=sec_type_property_key,\n",
    "                        set_to=\"Collateral\",\n",
    "                    )\n",
    "                ],\n",
    "            )\n",
    "        ],\n",
    "        properties=None,\n",
    "    )\n",
    "]\n",
    "\n",
    "new_txn_config = upsert_transaction_type_alias(\n",
    "    api_factory, new_transaction_config=new_transaction_config\n",
    ")\n",
    "\n",
    "new_txn_config"
   ],
   "metadata": {
    "collapsed": false,
    "pycharm": {
     "name": "#%%\n"
    }
   }
  },
  {
   "cell_type": "code",
   "execution_count": 13,
   "outputs": [
    {
     "name": "stdout",
     "output_type": "stream",
     "text": [
      "Transaction updated for effective time: 2022-09-15 10:41:12.482564+00:00.\n"
     ]
    }
   ],
   "source": [
    "# Set trade details\n",
    "trade_date = datetime(2022, 2, 8, tzinfo=pytz.utc)\n",
    "trade_ccy = \"USD\"\n",
    "fut_units = 100\n",
    "initial_margin = 33827\n",
    "fut_price = 44118.44531\n",
    "spot_price = 44340\n",
    "spot_units = 500\n",
    "spot_cost = spot_units * spot_price\n",
    "\n",
    "# Create trade request\n",
    "open_position = [\n",
    "    lm.TransactionRequest(\n",
    "        transaction_id=\"TXN001\",\n",
    "        type=\"OpenShortContract\",\n",
    "        instrument_identifiers={\n",
    "            \"Instrument/default/ClientInternal\": f\"{fut_id}\"\n",
    "        },\n",
    "        transaction_date=trade_date,\n",
    "        settlement_date=trade_date,\n",
    "        units=fut_units,\n",
    "        transaction_price=lm.TransactionPrice(price=fut_price, type=\"Price\"),\n",
    "        total_consideration=lm.CurrencyAndAmount(amount=initial_margin, currency=trade_ccy),\n",
    "        exchange_rate=1,\n",
    "        transaction_currency=trade_ccy,\n",
    "        source=transaction_group,\n",
    "        properties={\n",
    "            sec_type_property_key: lm.PerpetualProperty(\n",
    "                key=sec_type_property_key,\n",
    "                value=lm.PropertyValue(\n",
    "                    label_value=\"Future\"\n",
    "                )\n",
    "            )\n",
    "        }\n",
    "    ),\n",
    "    lm.TransactionRequest(\n",
    "        transaction_id=\"TXN002\",\n",
    "        type=\"VirtualCurrencyBuy\",\n",
    "        instrument_identifiers={\n",
    "            \"Instrument/default/LusidInstrumentId\": f\"CCY_{spot_id}\"\n",
    "        },\n",
    "        transaction_date=trade_date,\n",
    "        settlement_date=trade_date,\n",
    "        units=spot_units,\n",
    "        transaction_price=lm.TransactionPrice(price=spot_price, type=\"Price\"),\n",
    "        total_consideration=lm.CurrencyAndAmount(amount=spot_cost, currency=trade_ccy),\n",
    "        exchange_rate=spot_price,\n",
    "        transaction_currency=\"XBT\",\n",
    "        source=transaction_group,\n",
    "        properties={\n",
    "            sec_type_property_key: lm.PerpetualProperty(\n",
    "                key=sec_type_property_key,\n",
    "                value=lm.PropertyValue(\n",
    "                    label_value=\"VirtualCurrency\"\n",
    "                )\n",
    "            )\n",
    "        }\n",
    "    )\n",
    "\n",
    "]\n",
    "\n",
    "response = transaction_portfolios_api.upsert_transactions(\n",
    "    scope=scope,\n",
    "    code=portfolio_code,\n",
    "    transaction_request=open_position\n",
    ")\n",
    "\n",
    "print(f\"Transaction updated for effective time: {response.version.effective_from}.\")"
   ],
   "metadata": {
    "collapsed": false,
    "pycharm": {
     "name": "#%%\n"
    }
   }
  },
  {
   "cell_type": "markdown",
   "source": [
    "# 4.0 Market Data & Configuration Recipe"
   ],
   "metadata": {
    "collapsed": false,
    "pycharm": {
     "name": "#%% md\n"
    }
   }
  },
  {
   "cell_type": "code",
   "execution_count": 14,
   "outputs": [
    {
     "data": {
      "text/plain": "                 Price Date     Close Identifier Identifier Type    Units\n0 2022-08-15 00:00:00+00:00 24,240.00    XBT/USD    CurrencyPair  XBT/USD\n1 2022-08-14 00:00:00+00:00 24,315.00    XBT/USD    CurrencyPair  XBT/USD\n2 2022-08-12 00:00:00+00:00 24,240.00    XBT/USD    CurrencyPair  XBT/USD\n3 2022-08-11 00:00:00+00:00 24,245.00    XBT/USD    CurrencyPair  XBT/USD\n4 2022-08-10 00:00:00+00:00 23,655.00    XBT/USD    CurrencyPair  XBT/USD",
      "text/html": "<div>\n<style scoped>\n    .dataframe tbody tr th:only-of-type {\n        vertical-align: middle;\n    }\n\n    .dataframe tbody tr th {\n        vertical-align: top;\n    }\n\n    .dataframe thead th {\n        text-align: right;\n    }\n</style>\n<table border=\"1\" class=\"dataframe\">\n  <thead>\n    <tr style=\"text-align: right;\">\n      <th></th>\n      <th>Price Date</th>\n      <th>Close</th>\n      <th>Identifier</th>\n      <th>Identifier Type</th>\n      <th>Units</th>\n    </tr>\n  </thead>\n  <tbody>\n    <tr>\n      <th>0</th>\n      <td>2022-08-15 00:00:00+00:00</td>\n      <td>24,240.00</td>\n      <td>XBT/USD</td>\n      <td>CurrencyPair</td>\n      <td>XBT/USD</td>\n    </tr>\n    <tr>\n      <th>1</th>\n      <td>2022-08-14 00:00:00+00:00</td>\n      <td>24,315.00</td>\n      <td>XBT/USD</td>\n      <td>CurrencyPair</td>\n      <td>XBT/USD</td>\n    </tr>\n    <tr>\n      <th>2</th>\n      <td>2022-08-12 00:00:00+00:00</td>\n      <td>24,240.00</td>\n      <td>XBT/USD</td>\n      <td>CurrencyPair</td>\n      <td>XBT/USD</td>\n    </tr>\n    <tr>\n      <th>3</th>\n      <td>2022-08-11 00:00:00+00:00</td>\n      <td>24,245.00</td>\n      <td>XBT/USD</td>\n      <td>CurrencyPair</td>\n      <td>XBT/USD</td>\n    </tr>\n    <tr>\n      <th>4</th>\n      <td>2022-08-10 00:00:00+00:00</td>\n      <td>23,655.00</td>\n      <td>XBT/USD</td>\n      <td>CurrencyPair</td>\n      <td>XBT/USD</td>\n    </tr>\n  </tbody>\n</table>\n</div>"
     },
     "execution_count": 14,
     "metadata": {},
     "output_type": "execute_result"
    }
   ],
   "source": [
    "quotes_df = pd.read_csv(\"data/bitcoin_market_data.csv\")\n",
    "quotes_df[\"Price Date\"] = quotes_df[\"Price Date\"].apply(lambda x: parse(x, dayfirst=True))\n",
    "add_utc_to_df(quotes_df)\n",
    "quotes_df.head()"
   ],
   "metadata": {
    "collapsed": false,
    "pycharm": {
     "name": "#%%\n"
    }
   }
  },
  {
   "cell_type": "code",
   "execution_count": 15,
   "outputs": [
    {
     "name": "stdout",
     "output_type": "stream",
     "text": [
      "Quotes successfully loaded into LUSID. 334 quotes loaded.\n"
     ]
    }
   ],
   "source": [
    "# Set the market data scope\n",
    "market_data_scope = \"BitcoinFutures\"\n",
    "\n",
    "# Create quotes request\n",
    "instrument_quotes = {\n",
    "            index: lm.UpsertQuoteRequest(\n",
    "            quote_id=lm.QuoteId(\n",
    "                quote_series_id=lm.QuoteSeriesId(\n",
    "                    provider=\"Lusid\",\n",
    "                    instrument_id=row[\"Identifier\"],\n",
    "                    instrument_id_type=row[\"Identifier Type\"],\n",
    "                    quote_type=\"Price\",\n",
    "                    field=\"mid\",\n",
    "                ),\n",
    "                effective_at=row[\"Price Date\"],\n",
    "            ),\n",
    "            metric_value=lm.MetricValue(value=row[\"Close\"], unit=row[\"Units\"]),\n",
    "        )\n",
    "    for index, row in quotes_df.iterrows()\n",
    "}\n",
    "\n",
    "# Upsert quotes into LUSID\n",
    "response = quotes_api.upsert_quotes(\n",
    "    scope=market_data_scope, request_body=instrument_quotes\n",
    ")\n",
    "\n",
    "if response.failed == {}:\n",
    "    print(f\"Quotes successfully loaded into LUSID. {len(response.values)} quotes loaded.\")\n",
    "else:\n",
    "    print(f\"Some failures occurred during quotes upsertion, {len(response.failed)} did not get loaded into LUSID.\")"
   ],
   "metadata": {
    "collapsed": false,
    "pycharm": {
     "name": "#%%\n"
    }
   }
  },
  {
   "cell_type": "code",
   "execution_count": 16,
   "outputs": [
    {
     "name": "stdout",
     "output_type": "stream",
     "text": [
      "Configuration recipe loaded into LUSID at time 2022-09-16 13:37:58.974314+00:00.\n"
     ]
    }
   ],
   "source": [
    "# Set recipe code\n",
    "recipe_scope = \"Finbourne-Examples\"\n",
    "recipe_code = \"BitcoinFutures\"\n",
    "\n",
    "# Populate recipe parameters\n",
    "configuration_recipe = lm.ConfigurationRecipe(\n",
    "    scope=recipe_scope,\n",
    "    code=recipe_code,\n",
    "    market=lm.MarketContext(\n",
    "        market_rules=[\n",
    "            lm.MarketDataKeyRule(\n",
    "                key=\"Quote.ClientInternal.*\",\n",
    "                supplier=\"Lusid\",\n",
    "                data_scope=market_data_scope,\n",
    "                quote_type=\"Price\",\n",
    "                field=\"mid\",\n",
    "                quote_interval=\"5D\",\n",
    "            ),\n",
    "            lm.MarketDataKeyRule(\n",
    "                key=\"Fx.CurrencyPair.*\",\n",
    "                supplier=\"Lusid\",\n",
    "                data_scope=market_data_scope,\n",
    "                quote_type=\"Price\",\n",
    "                field=\"mid\",\n",
    "                quote_interval=\"5D\",\n",
    "            ),\n",
    "        ],\n",
    "    ),\n",
    "    pricing=lm.PricingContext(\n",
    "        model_rules=[\n",
    "            lm.VendorModelRule(\n",
    "                supplier=\"Lusid\",\n",
    "                model_name=\"SimpleStatic\",\n",
    "                instrument_type=\"Future\",\n",
    "                parameters=\"{}\",\n",
    "            )\n",
    "        ],\n",
    "    ),\n",
    ")\n",
    "\n",
    "response = configuration_recipe_api.upsert_configuration_recipe(\n",
    "    upsert_recipe_request=lm.UpsertRecipeRequest(\n",
    "        configuration_recipe=configuration_recipe\n",
    "    )\n",
    ")\n",
    "\n",
    "print(f\"Configuration recipe loaded into LUSID at time {response.value}.\")"
   ],
   "metadata": {
    "collapsed": false,
    "pycharm": {
     "name": "#%%\n"
    }
   }
  },
  {
   "cell_type": "code",
   "execution_count": 17,
   "outputs": [],
   "source": [
    "def margin_work_flow(\n",
    "        api_factory: lusid.utilities.ApiClientFactory,\n",
    "        portfolio_scope: str,\n",
    "        portfolio_code: str,\n",
    "        recipe_scope: str,\n",
    "        recipe_code: str,\n",
    "        effective_date: datetime=datetime,\n",
    "        # initial_margin_property_key: str,\n",
    "        # secondary_margin_property_key: str,\n",
    "        # margin_call_transaction_type: str,\n",
    "        # instrument_types: list=[\"Future\"],\n",
    "        group_by: list=[\"Instrument/default/LusidInstrumentId\"]\n",
    ") -> None:\n",
    "\n",
    "    metrics = [\n",
    "        lm.AggregateSpec(\n",
    "            key=\"Valuation/PvInPortfolioCcy\",\n",
    "            op=\"Value\"\n",
    "        ),\n",
    "        lm.AggregateSpec(\n",
    "            key=\"Valuation/PnL/Unrealised\",\n",
    "            op=\"Value\"\n",
    "        ),\n",
    "        lm.AggregateSpec(\n",
    "            key=\"Instrument/InstrumentType\",\n",
    "            op=\"Value\"\n",
    "        ),\n",
    "        lm.AggregateSpec(\n",
    "            key=sec_type_property_key,\n",
    "            op=\"Value\"\n",
    "        ),\n",
    "    ]\n",
    "\n",
    "    valuation_results = api_factory.build(lusid.api.AggregationApi).get_valuation(\n",
    "        valuation_request=lm.ValuationRequest(\n",
    "            recipe_id=lm.ResourceId(scope=recipe_scope, code=recipe_code),\n",
    "            metrics=metrics,\n",
    "            group_by=group_by,\n",
    "            portfolio_entity_ids=[\n",
    "                lm.PortfolioEntityId(scope=portfolio_scope, code=portfolio_code)\n",
    "        ],\n",
    "        valuation_schedule=lm.ValuationSchedule(effective_at=effective_date),\n",
    "\n",
    "        )\n",
    "    )\n",
    "\n",
    "    # valuation_results = lm.ValuationRequest(\n",
    "    #     recipe_id=lm.ResourceId(scope=recipe_scope, code=recipe_code),\n",
    "    #     metrics=metrics,\n",
    "    #     group_by=group_by,\n",
    "    #     portfolio_entity_ids=[\n",
    "    #         lm.PortfolioEntityId(scope=portfolio_scope, code=portfolio_code)\n",
    "    # ],\n",
    "    # valuation_schedule=lm.ValuationSchedule(effective_at=effective_date),\n",
    "    #\n",
    "    # )\n",
    "\n",
    "    return valuation_results\n",
    "\n",
    "    #TODO: filter to list of included instrument types for MtM margin workflow\n",
    "    # for instrument in instrument_types:\n",
    "    #     if instrument_type in valuation_results.values[\"Instrument/InstrumentType\"]:\n",
    "    #         #TODO: do some margin stuff"
   ],
   "metadata": {
    "collapsed": false,
    "pycharm": {
     "name": "#%%\n"
    }
   }
  },
  {
   "cell_type": "code",
   "execution_count": 26,
   "outputs": [],
   "source": [
    "effective_date = datetime(2022, 6, 10, tzinfo=pytz.utc)\n",
    "\n",
    "results = margin_work_flow(\n",
    "    api_factory=api_factory,\n",
    "    portfolio_scope=scope,\n",
    "    portfolio_code=portfolio_code,\n",
    "    recipe_scope=recipe_scope,\n",
    "    recipe_code=recipe_code,\n",
    "    effective_date=effective_date,\n",
    "    #group_by=[\"Instrument/default/LusidInstrumentId\", sec_type_property_key]\n",
    "\n",
    ")"
   ],
   "metadata": {
    "collapsed": false,
    "pycharm": {
     "name": "#%%\n"
    }
   }
  },
  {
   "cell_type": "code",
   "execution_count": 27,
   "outputs": [
    {
     "data": {
      "text/plain": "   Valuation/PvInPortfolioCcy Instrument/InstrumentType  \\\n0              -14,541,902.34                    Future   \n1                         nan             CashPerpetual   \n2               14,460,000.00             CashPerpetual   \n\n  Transaction/CarryDemo/SecurityType  Valuation/PnL/Unrealised  \n0                             Future            -14,508,075.34  \n1                               None                      0.00  \n2                    VirtualCurrency                      0.00  ",
      "text/html": "<div>\n<style scoped>\n    .dataframe tbody tr th:only-of-type {\n        vertical-align: middle;\n    }\n\n    .dataframe tbody tr th {\n        vertical-align: top;\n    }\n\n    .dataframe thead th {\n        text-align: right;\n    }\n</style>\n<table border=\"1\" class=\"dataframe\">\n  <thead>\n    <tr style=\"text-align: right;\">\n      <th></th>\n      <th>Valuation/PvInPortfolioCcy</th>\n      <th>Instrument/InstrumentType</th>\n      <th>Transaction/CarryDemo/SecurityType</th>\n      <th>Valuation/PnL/Unrealised</th>\n    </tr>\n  </thead>\n  <tbody>\n    <tr>\n      <th>0</th>\n      <td>-14,541,902.34</td>\n      <td>Future</td>\n      <td>Future</td>\n      <td>-14,508,075.34</td>\n    </tr>\n    <tr>\n      <th>1</th>\n      <td>nan</td>\n      <td>CashPerpetual</td>\n      <td>None</td>\n      <td>0.00</td>\n    </tr>\n    <tr>\n      <th>2</th>\n      <td>14,460,000.00</td>\n      <td>CashPerpetual</td>\n      <td>VirtualCurrency</td>\n      <td>0.00</td>\n    </tr>\n  </tbody>\n</table>\n</div>"
     },
     "execution_count": 27,
     "metadata": {},
     "output_type": "execute_result"
    }
   ],
   "source": [
    "val_df = valuation_response_to_df(results)\n",
    "val_df"
   ],
   "metadata": {
    "collapsed": false,
    "pycharm": {
     "name": "#%%\n"
    }
   }
  },
  {
   "cell_type": "code",
   "execution_count": 28,
   "outputs": [
    {
     "data": {
      "text/plain": "-81902.34499999881"
     },
     "execution_count": 28,
     "metadata": {},
     "output_type": "execute_result"
    }
   ],
   "source": [
    "val_df[\"Valuation/PvInPortfolioCcy\"].sum()"
   ],
   "metadata": {
    "collapsed": false,
    "pycharm": {
     "name": "#%%\n"
    }
   }
  },
  {
   "cell_type": "code",
   "execution_count": 29,
   "outputs": [
    {
     "data": {
      "text/plain": "[{'Valuation/PvInPortfolioCcy': -14541902.344999999,\n  'Valuation/PnL/Unrealised': -14508075.344999999,\n  'Instrument/InstrumentType': 'Future',\n  'Transaction/CarryDemo/SecurityType': 'Future'},\n {'Valuation/PvInPortfolioCcy': None,\n  'Valuation/PnL/Unrealised': 0.0,\n  'Instrument/InstrumentType': 'CashPerpetual',\n  'Transaction/CarryDemo/SecurityType': None},\n {'Valuation/PvInPortfolioCcy': 14460000.0,\n  'Valuation/PnL/Unrealised': 0.0,\n  'Instrument/InstrumentType': 'CashPerpetual',\n  'Transaction/CarryDemo/SecurityType': 'VirtualCurrency'}]"
     },
     "execution_count": 29,
     "metadata": {},
     "output_type": "execute_result"
    }
   ],
   "source": [
    "results.data"
   ],
   "metadata": {
    "collapsed": false,
    "pycharm": {
     "name": "#%%\n"
    }
   }
  },
  {
   "cell_type": "code",
   "execution_count": 21,
   "outputs": [],
   "source": [],
   "metadata": {
    "collapsed": false,
    "pycharm": {
     "name": "#%%\n"
    }
   }
  }
 ],
 "metadata": {
  "kernelspec": {
   "display_name": "Python 3",
   "language": "python",
   "name": "python3"
  },
  "language_info": {
   "codemirror_mode": {
    "name": "ipython",
    "version": 2
   },
   "file_extension": ".py",
   "mimetype": "text/x-python",
   "name": "python",
   "nbconvert_exporter": "python",
   "pygments_lexer": "ipython2",
   "version": "2.7.6"
  }
 },
 "nbformat": 4,
 "nbformat_minor": 0
}